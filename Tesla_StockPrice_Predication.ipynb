{
  "nbformat": 4,
  "nbformat_minor": 0,
  "metadata": {
    "colab": {
      "provenance": [],
      "gpuType": "T4"
    },
    "kernelspec": {
      "name": "python3",
      "display_name": "Python 3"
    },
    "language_info": {
      "name": "python"
    },
    "accelerator": "GPU"
  },
  "cells": [
    {
      "cell_type": "code",
      "source": [
        "import pandas as pd\n",
        "import numpy as np\n",
        "from sklearn.preprocessing import MinMaxScaler\n",
        "from keras.models import Sequential\n",
        "from keras.layers import LSTM, Dense\n",
        "from sklearn.metrics import mean_absolute_error, mean_squared_error"
      ],
      "metadata": {
        "id": "bewAJNBxuh-I"
      },
      "execution_count": 19,
      "outputs": []
    },
    {
      "cell_type": "code",
      "source": [
        "data = pd.read_csv(\"/content/Tesla.csv - Tesla.csv.csv\")\n",
        "data.dropna(inplace=True)"
      ],
      "metadata": {
        "id": "lAL3qcIkudYS"
      },
      "execution_count": 20,
      "outputs": []
    },
    {
      "cell_type": "code",
      "source": [
        "data['Date'] = pd.to_datetime(data['Date'])"
      ],
      "metadata": {
        "id": "T-vI9XN2ulTh"
      },
      "execution_count": 21,
      "outputs": []
    },
    {
      "cell_type": "code",
      "source": [
        "open_prices = data['Open'].values.reshape(-1, 1)\n",
        "scaler = MinMaxScaler(feature_range=(0, 1))\n",
        "scaled_open_prices = scaler.fit_transform(open_prices)"
      ],
      "metadata": {
        "id": "0_FgQkfKulQK"
      },
      "execution_count": 22,
      "outputs": []
    },
    {
      "cell_type": "code",
      "source": [
        "train_size = int(len(scaled_open_prices) * 0.8)\n",
        "test_size = len(scaled_open_prices) - train_size\n",
        "train_data, test_data = scaled_open_prices[0:train_size,:], scaled_open_prices[train_size:len(scaled_open_prices),:]"
      ],
      "metadata": {
        "id": "EwntqpLvulN0"
      },
      "execution_count": 23,
      "outputs": []
    },
    {
      "cell_type": "code",
      "source": [
        "def create_dataset(dataset, time_step=1):\n",
        "    dataX, dataY = [], []\n",
        "    for i in range(len(dataset)-time_step-1):\n",
        "        a = dataset[i:(i+time_step), 0]\n",
        "        dataX.append(a)\n",
        "        dataY.append(dataset[i + time_step, 0])\n",
        "    return np.array(dataX), np.array(dataY)"
      ],
      "metadata": {
        "id": "IvszEmKgulLK"
      },
      "execution_count": 24,
      "outputs": []
    },
    {
      "cell_type": "code",
      "source": [
        "time_step = 1\n",
        "X_train, y_train = create_dataset(train_data, time_step)\n",
        "X_test, y_test = create_dataset(test_data, time_step)"
      ],
      "metadata": {
        "id": "10DMJ-_LulIw"
      },
      "execution_count": 25,
      "outputs": []
    },
    {
      "cell_type": "code",
      "source": [
        "X_train = X_train.reshape(X_train.shape[0], 1, X_train.shape[1])\n",
        "X_test = X_test.reshape(X_test.shape[0], 1, X_test.shape[1])"
      ],
      "metadata": {
        "id": "8LCxn6VdudJC"
      },
      "execution_count": 26,
      "outputs": []
    },
    {
      "cell_type": "code",
      "source": [
        "model = Sequential()\n",
        "model.add(LSTM(units=50, return_sequences=True, input_shape=(1, time_step)))\n",
        "model.add(LSTM(units=50))\n",
        "model.add(Dense(units=1))"
      ],
      "metadata": {
        "id": "Zreit3lJucmz"
      },
      "execution_count": 27,
      "outputs": []
    },
    {
      "cell_type": "code",
      "source": [
        "model.compile(optimizer='adam', loss='mean_squared_error')\n",
        "model.fit(X_train, y_train, epochs=100, batch_size=64)\n",
        "train_predict = model.predict(X_train)\n",
        "test_predict = model.predict(X_test)"
      ],
      "metadata": {
        "colab": {
          "base_uri": "https://localhost:8080/"
        },
        "id": "Aou8DLM-vBFx",
        "outputId": "60125337-112a-4fad-ec79-a584520f6d2e"
      },
      "execution_count": 28,
      "outputs": [
        {
          "output_type": "stream",
          "name": "stdout",
          "text": [
            "Epoch 1/100\n",
            "22/22 [==============================] - 3s 6ms/step - loss: 0.2087\n",
            "Epoch 2/100\n",
            "22/22 [==============================] - 0s 5ms/step - loss: 0.1291\n",
            "Epoch 3/100\n",
            "22/22 [==============================] - 0s 7ms/step - loss: 0.0575\n",
            "Epoch 4/100\n",
            "22/22 [==============================] - 0s 7ms/step - loss: 0.0360\n",
            "Epoch 5/100\n",
            "22/22 [==============================] - 0s 7ms/step - loss: 0.0163\n",
            "Epoch 6/100\n",
            "22/22 [==============================] - 0s 7ms/step - loss: 0.0047\n",
            "Epoch 7/100\n",
            "22/22 [==============================] - 0s 7ms/step - loss: 0.0011\n",
            "Epoch 8/100\n",
            "22/22 [==============================] - 0s 7ms/step - loss: 8.1009e-04\n",
            "Epoch 9/100\n",
            "22/22 [==============================] - 0s 6ms/step - loss: 7.9689e-04\n",
            "Epoch 10/100\n",
            "22/22 [==============================] - 0s 7ms/step - loss: 7.7426e-04\n",
            "Epoch 11/100\n",
            "22/22 [==============================] - 0s 7ms/step - loss: 7.6808e-04\n",
            "Epoch 12/100\n",
            "22/22 [==============================] - 0s 7ms/step - loss: 7.5064e-04\n",
            "Epoch 13/100\n",
            "22/22 [==============================] - 0s 7ms/step - loss: 7.1752e-04\n",
            "Epoch 14/100\n",
            "22/22 [==============================] - 0s 7ms/step - loss: 7.0791e-04\n",
            "Epoch 15/100\n",
            "22/22 [==============================] - 0s 7ms/step - loss: 6.9797e-04\n",
            "Epoch 16/100\n",
            "22/22 [==============================] - 0s 6ms/step - loss: 6.7672e-04\n",
            "Epoch 17/100\n",
            "22/22 [==============================] - 0s 7ms/step - loss: 6.4859e-04\n",
            "Epoch 18/100\n",
            "22/22 [==============================] - 0s 7ms/step - loss: 6.4524e-04\n",
            "Epoch 19/100\n",
            "22/22 [==============================] - 0s 8ms/step - loss: 6.1800e-04\n",
            "Epoch 20/100\n",
            "22/22 [==============================] - 0s 7ms/step - loss: 5.9739e-04\n",
            "Epoch 21/100\n",
            "22/22 [==============================] - 0s 6ms/step - loss: 5.8560e-04\n",
            "Epoch 22/100\n",
            "22/22 [==============================] - 0s 5ms/step - loss: 5.6739e-04\n",
            "Epoch 23/100\n",
            "22/22 [==============================] - 0s 5ms/step - loss: 5.4718e-04\n",
            "Epoch 24/100\n",
            "22/22 [==============================] - 0s 5ms/step - loss: 5.3276e-04\n",
            "Epoch 25/100\n",
            "22/22 [==============================] - 0s 5ms/step - loss: 5.1415e-04\n",
            "Epoch 26/100\n",
            "22/22 [==============================] - 0s 5ms/step - loss: 5.0858e-04\n",
            "Epoch 27/100\n",
            "22/22 [==============================] - 0s 5ms/step - loss: 4.8763e-04\n",
            "Epoch 28/100\n",
            "22/22 [==============================] - 0s 5ms/step - loss: 4.7706e-04\n",
            "Epoch 29/100\n",
            "22/22 [==============================] - 0s 5ms/step - loss: 4.5808e-04\n",
            "Epoch 30/100\n",
            "22/22 [==============================] - 0s 5ms/step - loss: 4.4750e-04\n",
            "Epoch 31/100\n",
            "22/22 [==============================] - 0s 5ms/step - loss: 4.3045e-04\n",
            "Epoch 32/100\n",
            "22/22 [==============================] - 0s 6ms/step - loss: 4.2134e-04\n",
            "Epoch 33/100\n",
            "22/22 [==============================] - 0s 5ms/step - loss: 4.1440e-04\n",
            "Epoch 34/100\n",
            "22/22 [==============================] - 0s 5ms/step - loss: 3.9741e-04\n",
            "Epoch 35/100\n",
            "22/22 [==============================] - 0s 5ms/step - loss: 3.8795e-04\n",
            "Epoch 36/100\n",
            "22/22 [==============================] - 0s 5ms/step - loss: 3.8258e-04\n",
            "Epoch 37/100\n",
            "22/22 [==============================] - 0s 5ms/step - loss: 3.7816e-04\n",
            "Epoch 38/100\n",
            "22/22 [==============================] - 0s 5ms/step - loss: 3.5960e-04\n",
            "Epoch 39/100\n",
            "22/22 [==============================] - 0s 5ms/step - loss: 3.5391e-04\n",
            "Epoch 40/100\n",
            "22/22 [==============================] - 0s 5ms/step - loss: 3.4815e-04\n",
            "Epoch 41/100\n",
            "22/22 [==============================] - 0s 5ms/step - loss: 3.3714e-04\n",
            "Epoch 42/100\n",
            "22/22 [==============================] - 0s 5ms/step - loss: 3.3108e-04\n",
            "Epoch 43/100\n",
            "22/22 [==============================] - 0s 5ms/step - loss: 3.3155e-04\n",
            "Epoch 44/100\n",
            "22/22 [==============================] - 0s 5ms/step - loss: 3.1786e-04\n",
            "Epoch 45/100\n",
            "22/22 [==============================] - 0s 5ms/step - loss: 3.1643e-04\n",
            "Epoch 46/100\n",
            "22/22 [==============================] - 0s 5ms/step - loss: 3.1114e-04\n",
            "Epoch 47/100\n",
            "22/22 [==============================] - 0s 5ms/step - loss: 3.1211e-04\n",
            "Epoch 48/100\n",
            "22/22 [==============================] - 0s 5ms/step - loss: 3.1246e-04\n",
            "Epoch 49/100\n",
            "22/22 [==============================] - 0s 5ms/step - loss: 3.0525e-04\n",
            "Epoch 50/100\n",
            "22/22 [==============================] - 0s 5ms/step - loss: 2.9723e-04\n",
            "Epoch 51/100\n",
            "22/22 [==============================] - 0s 5ms/step - loss: 2.9608e-04\n",
            "Epoch 52/100\n",
            "22/22 [==============================] - 0s 5ms/step - loss: 2.9360e-04\n",
            "Epoch 53/100\n",
            "22/22 [==============================] - 0s 5ms/step - loss: 2.9549e-04\n",
            "Epoch 54/100\n",
            "22/22 [==============================] - 0s 5ms/step - loss: 2.9296e-04\n",
            "Epoch 55/100\n",
            "22/22 [==============================] - 0s 5ms/step - loss: 2.8943e-04\n",
            "Epoch 56/100\n",
            "22/22 [==============================] - 0s 5ms/step - loss: 2.8417e-04\n",
            "Epoch 57/100\n",
            "22/22 [==============================] - 0s 5ms/step - loss: 2.8432e-04\n",
            "Epoch 58/100\n",
            "22/22 [==============================] - 0s 5ms/step - loss: 2.8861e-04\n",
            "Epoch 59/100\n",
            "22/22 [==============================] - 0s 5ms/step - loss: 2.9273e-04\n",
            "Epoch 60/100\n",
            "22/22 [==============================] - 0s 5ms/step - loss: 2.9434e-04\n",
            "Epoch 61/100\n",
            "22/22 [==============================] - 0s 5ms/step - loss: 2.8246e-04\n",
            "Epoch 62/100\n",
            "22/22 [==============================] - 0s 5ms/step - loss: 2.8165e-04\n",
            "Epoch 63/100\n",
            "22/22 [==============================] - 0s 5ms/step - loss: 2.8163e-04\n",
            "Epoch 64/100\n",
            "22/22 [==============================] - 0s 5ms/step - loss: 2.7861e-04\n",
            "Epoch 65/100\n",
            "22/22 [==============================] - 0s 5ms/step - loss: 2.7758e-04\n",
            "Epoch 66/100\n",
            "22/22 [==============================] - 0s 5ms/step - loss: 2.8456e-04\n",
            "Epoch 67/100\n",
            "22/22 [==============================] - 0s 5ms/step - loss: 2.7677e-04\n",
            "Epoch 68/100\n",
            "22/22 [==============================] - 0s 5ms/step - loss: 2.9638e-04\n",
            "Epoch 69/100\n",
            "22/22 [==============================] - 0s 5ms/step - loss: 2.8252e-04\n",
            "Epoch 70/100\n",
            "22/22 [==============================] - 0s 5ms/step - loss: 2.7836e-04\n",
            "Epoch 71/100\n",
            "22/22 [==============================] - 0s 5ms/step - loss: 2.8695e-04\n",
            "Epoch 72/100\n",
            "22/22 [==============================] - 0s 5ms/step - loss: 2.7617e-04\n",
            "Epoch 73/100\n",
            "22/22 [==============================] - 0s 5ms/step - loss: 2.8307e-04\n",
            "Epoch 74/100\n",
            "22/22 [==============================] - 0s 5ms/step - loss: 2.7613e-04\n",
            "Epoch 75/100\n",
            "22/22 [==============================] - 0s 5ms/step - loss: 2.7588e-04\n",
            "Epoch 76/100\n",
            "22/22 [==============================] - 0s 5ms/step - loss: 2.7735e-04\n",
            "Epoch 77/100\n",
            "22/22 [==============================] - 0s 5ms/step - loss: 2.7743e-04\n",
            "Epoch 78/100\n",
            "22/22 [==============================] - 0s 5ms/step - loss: 2.7715e-04\n",
            "Epoch 79/100\n",
            "22/22 [==============================] - 0s 5ms/step - loss: 2.8357e-04\n",
            "Epoch 80/100\n",
            "22/22 [==============================] - 0s 5ms/step - loss: 2.8294e-04\n",
            "Epoch 81/100\n",
            "22/22 [==============================] - 0s 5ms/step - loss: 3.0141e-04\n",
            "Epoch 82/100\n",
            "22/22 [==============================] - 0s 5ms/step - loss: 3.0695e-04\n",
            "Epoch 83/100\n",
            "22/22 [==============================] - 0s 5ms/step - loss: 2.9110e-04\n",
            "Epoch 84/100\n",
            "22/22 [==============================] - 0s 5ms/step - loss: 2.7618e-04\n",
            "Epoch 85/100\n",
            "22/22 [==============================] - 0s 5ms/step - loss: 2.8297e-04\n",
            "Epoch 86/100\n",
            "22/22 [==============================] - 0s 5ms/step - loss: 2.7879e-04\n",
            "Epoch 87/100\n",
            "22/22 [==============================] - 0s 5ms/step - loss: 2.8417e-04\n",
            "Epoch 88/100\n",
            "22/22 [==============================] - 0s 5ms/step - loss: 2.7675e-04\n",
            "Epoch 89/100\n",
            "22/22 [==============================] - 0s 5ms/step - loss: 2.7969e-04\n",
            "Epoch 90/100\n",
            "22/22 [==============================] - 0s 5ms/step - loss: 2.8830e-04\n",
            "Epoch 91/100\n",
            "22/22 [==============================] - 0s 5ms/step - loss: 2.8318e-04\n",
            "Epoch 92/100\n",
            "22/22 [==============================] - 0s 5ms/step - loss: 2.7873e-04\n",
            "Epoch 93/100\n",
            "22/22 [==============================] - 0s 5ms/step - loss: 2.7974e-04\n",
            "Epoch 94/100\n",
            "22/22 [==============================] - 0s 5ms/step - loss: 2.9679e-04\n",
            "Epoch 95/100\n",
            "22/22 [==============================] - 0s 5ms/step - loss: 2.7774e-04\n",
            "Epoch 96/100\n",
            "22/22 [==============================] - 0s 5ms/step - loss: 2.7678e-04\n",
            "Epoch 97/100\n",
            "22/22 [==============================] - 0s 6ms/step - loss: 2.7603e-04\n",
            "Epoch 98/100\n",
            "22/22 [==============================] - 0s 5ms/step - loss: 2.8824e-04\n",
            "Epoch 99/100\n",
            "22/22 [==============================] - 0s 5ms/step - loss: 2.8704e-04\n",
            "Epoch 100/100\n",
            "22/22 [==============================] - 0s 5ms/step - loss: 2.8994e-04\n",
            "43/43 [==============================] - 1s 2ms/step\n",
            "11/11 [==============================] - 0s 3ms/step\n"
          ]
        }
      ]
    },
    {
      "cell_type": "code",
      "source": [
        "train_predict = scaler.inverse_transform(train_predict)\n",
        "y_train = scaler.inverse_transform([y_train])\n",
        "test_predict = scaler.inverse_transform(test_predict)\n",
        "y_test = scaler.inverse_transform([y_test])"
      ],
      "metadata": {
        "id": "zT6cq25XvBCS"
      },
      "execution_count": 29,
      "outputs": []
    },
    {
      "cell_type": "code",
      "source": [
        "last_day_data = test_data[-1]\n",
        "last_day_data = last_day_data.reshape(1, 1, 1)\n",
        "next_day_open_prediction = model.predict(last_day_data)\n",
        "next_day_open_prediction = scaler.inverse_transform(next_day_open_prediction)\n",
        "print(\"Predicted next day's opening price:\", next_day_open_prediction[0][0])"
      ],
      "metadata": {
        "colab": {
          "base_uri": "https://localhost:8080/"
        },
        "id": "AoJRRc7DvA_o",
        "outputId": "97a41a7d-7288-466b-afc9-083877a85c34"
      },
      "execution_count": 30,
      "outputs": [
        {
          "output_type": "stream",
          "name": "stdout",
          "text": [
            "1/1 [==============================] - 0s 17ms/step\n",
            "Predicted next day's opening price: 262.30862\n"
          ]
        }
      ]
    },
    {
      "cell_type": "code",
      "source": [],
      "metadata": {
        "id": "Xg2N7VZcth_R"
      },
      "execution_count": null,
      "outputs": []
    }
  ]
}